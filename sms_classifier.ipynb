{
  "nbformat": 4,
  "nbformat_minor": 0,
  "metadata": {
    "colab": {
      "provenance": [],
      "authorship_tag": "ABX9TyNJbkVR+gk69LG4VuGzsGTq",
      "include_colab_link": true
    },
    "kernelspec": {
      "name": "python3",
      "display_name": "Python 3"
    },
    "language_info": {
      "name": "python"
    }
  },
  "cells": [
    {
      "cell_type": "markdown",
      "metadata": {
        "id": "view-in-github",
        "colab_type": "text"
      },
      "source": [
        "<a href=\"https://colab.research.google.com/github/HeyViree16/heyprojects/blob/main/sms_classifier.ipynb\" target=\"_parent\"><img src=\"https://colab.research.google.com/assets/colab-badge.svg\" alt=\"Open In Colab\"/></a>"
      ]
    },
    {
      "cell_type": "code",
      "source": [
        "import pandas as pd\n",
        "from sklearn.naive_bayes import MultinomialNB\n",
        "from sklearn.feature_extraction.text import TfidfVectorizer"
      ],
      "metadata": {
        "id": "Eb-OTm_CpJod"
      },
      "execution_count": null,
      "outputs": []
    },
    {
      "cell_type": "code",
      "source": [
        "import pandas as pd\n",
        "# Create a DataFrame from the provided data\n",
        "data = {'message': ['Free credit!', 'Congratulations! You have won a free trip!', 'This is a reminder to pick up your prescription.'], 'label': ['spam', 'spam', 'ham']}\n",
        "df = pd.DataFrame(data)\n",
        "6\n",
        "# Print the DataFrame\n",
        "print(df)"
      ],
      "metadata": {
        "colab": {
          "base_uri": "https://localhost:8080/"
        },
        "id": "xV04nOHYj0Lw",
        "outputId": "eb92cade-00a3-4640-cf55-ee7998f4b260"
      },
      "execution_count": null,
      "outputs": [
        {
          "output_type": "stream",
          "name": "stdout",
          "text": [
            "                                            message label\n",
            "0                                      Free credit!  spam\n",
            "1        Congratulations! You have won a free trip!  spam\n",
            "2  This is a reminder to pick up your prescription.   ham\n"
          ]
        }
      ]
    },
    {
      "cell_type": "code",
      "source": [
        "# Separate the SMS messages and labels\n",
        "X = data['message']\n",
        "y = data['label']\n",
        "\n",
        "# Create a TF-IDF vectorizer to transform the SMS messages into numerical features\n",
        "\n",
        "vectorizer = TfidfVectorizer()\n",
        "X_transformed = vectorizer.fit_transform(X)\n",
        "\n",
        "# Train a Naive Bayes classifier\n",
        "classifier = MultinomialNB()\n",
        "classifier.fit(X_transformed, y)\n",
        "\n",
        "# Make predictions on new SMS messages\n",
        "new_messages = ['NEXTBILLION TECHNOLOGY PRIVATE on 23-12-23 reported your Fund bal Rs.0 & Securities bal 0. This excludes your Bank, DP & PMS bal with the broker-NSE.']\n",
        "new_messages_transformed = vectorizer.transform(new_messages)\n",
        "predictions = classifier.predict(new_messages_transformed)\n",
        "\n",
        "# Print the predictions\n",
        "print(predictions)"
      ],
      "metadata": {
        "colab": {
          "base_uri": "https://localhost:8080/"
        },
        "id": "OxRDC6Yoj4_O",
        "outputId": "e5e5bffd-70ba-4087-fdc4-01ec1f8989a2"
      },
      "execution_count": null,
      "outputs": [
        {
          "output_type": "stream",
          "name": "stdout",
          "text": [
            "['spam']\n"
          ]
        }
      ]
    }
  ]
}